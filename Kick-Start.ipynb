{
 "cells": [
  {
   "cell_type": "code",
   "execution_count": 18,
   "metadata": {},
   "outputs": [],
   "source": [
    "import pandas as pd\n",
    "import numpy as np\n",
    "import matplotlib.pyplot as plt"
   ]
  },
  {
   "cell_type": "code",
   "execution_count": 20,
   "metadata": {},
   "outputs": [
    {
     "data": {
      "text/html": [
       "<div>\n",
       "<style scoped>\n",
       "    .dataframe tbody tr th:only-of-type {\n",
       "        vertical-align: middle;\n",
       "    }\n",
       "\n",
       "    .dataframe tbody tr th {\n",
       "        vertical-align: top;\n",
       "    }\n",
       "\n",
       "    .dataframe thead th {\n",
       "        text-align: right;\n",
       "    }\n",
       "</style>\n",
       "<table border=\"1\" class=\"dataframe\">\n",
       "  <thead>\n",
       "    <tr style=\"text-align: right;\">\n",
       "      <th></th>\n",
       "      <th>id</th>\n",
       "      <th>name</th>\n",
       "      <th>url</th>\n",
       "      <th>summary</th>\n",
       "      <th>picture</th>\n",
       "      <th>birthplace</th>\n",
       "      <th>deathplace</th>\n",
       "      <th>birthdate</th>\n",
       "      <th>deathdate</th>\n",
       "      <th>cause_of_death</th>\n",
       "    </tr>\n",
       "  </thead>\n",
       "  <tbody>\n",
       "    <tr>\n",
       "      <th>0</th>\n",
       "      <td>0</td>\n",
       "      <td>Vincent Van Gogh</td>\n",
       "      <td>http://wikigallery.org/wiki/artist36933/Vincen...</td>\n",
       "      <td>Vincent Willem van Gogh (Dutch: [ˈvɪnsɛnt ˈʋɪl...</td>\n",
       "      <td>0.0</td>\n",
       "      <td>0.0</td>\n",
       "      <td>342.0</td>\n",
       "      <td>1853-03-30</td>\n",
       "      <td>1890-07-29</td>\n",
       "      <td>Gunshot wound</td>\n",
       "    </tr>\n",
       "    <tr>\n",
       "      <th>1</th>\n",
       "      <td>1</td>\n",
       "      <td>Pierre Auguste Renoir</td>\n",
       "      <td>http://wikigallery.org/wiki/artist39254/Pierre...</td>\n",
       "      <td>Pierre-Auguste Renoir (French: [pjɛʁ oɡyst ʁən...</td>\n",
       "      <td>1.0</td>\n",
       "      <td>1.0</td>\n",
       "      <td>343.0</td>\n",
       "      <td>1841-02-25</td>\n",
       "      <td>1919-12-03</td>\n",
       "      <td>None</td>\n",
       "    </tr>\n",
       "    <tr>\n",
       "      <th>2</th>\n",
       "      <td>2</td>\n",
       "      <td>Claude Oscar Monet</td>\n",
       "      <td>http://wikigallery.org/wiki/artist39249/Claude...</td>\n",
       "      <td>Oscar-Claude Monet (UK: , US: , French: [klod ...</td>\n",
       "      <td>2.0</td>\n",
       "      <td>2.0</td>\n",
       "      <td>344.0</td>\n",
       "      <td>1840-11-14</td>\n",
       "      <td>1926-12-05</td>\n",
       "      <td>None</td>\n",
       "    </tr>\n",
       "    <tr>\n",
       "      <th>3</th>\n",
       "      <td>3</td>\n",
       "      <td>Fernando Botero</td>\n",
       "      <td>http://wikigallery.org/wiki/artist37052/Fernan...</td>\n",
       "      <td>Fernando Botero Angulo (born 19 April 1932) is...</td>\n",
       "      <td>3.0</td>\n",
       "      <td>3.0</td>\n",
       "      <td>NaN</td>\n",
       "      <td>1932-04-19</td>\n",
       "      <td>None</td>\n",
       "      <td>None</td>\n",
       "    </tr>\n",
       "    <tr>\n",
       "      <th>4</th>\n",
       "      <td>4</td>\n",
       "      <td>Jean-Léon Gérôme</td>\n",
       "      <td>http://wikigallery.org/wiki/artist46453/Jean-L...</td>\n",
       "      <td>Jean-Léon Gérôme (11 May 1824 – 10 January 190...</td>\n",
       "      <td>4.0</td>\n",
       "      <td>4.0</td>\n",
       "      <td>2.0</td>\n",
       "      <td>1824-05-11</td>\n",
       "      <td>1904-01-10</td>\n",
       "      <td>None</td>\n",
       "    </tr>\n",
       "  </tbody>\n",
       "</table>\n",
       "</div>"
      ],
      "text/plain": [
       "   id                   name  \\\n",
       "0   0       Vincent Van Gogh   \n",
       "1   1  Pierre Auguste Renoir   \n",
       "2   2     Claude Oscar Monet   \n",
       "3   3        Fernando Botero   \n",
       "4   4       Jean-Léon Gérôme   \n",
       "\n",
       "                                                 url  \\\n",
       "0  http://wikigallery.org/wiki/artist36933/Vincen...   \n",
       "1  http://wikigallery.org/wiki/artist39254/Pierre...   \n",
       "2  http://wikigallery.org/wiki/artist39249/Claude...   \n",
       "3  http://wikigallery.org/wiki/artist37052/Fernan...   \n",
       "4  http://wikigallery.org/wiki/artist46453/Jean-L...   \n",
       "\n",
       "                                             summary  picture  birthplace  \\\n",
       "0  Vincent Willem van Gogh (Dutch: [ˈvɪnsɛnt ˈʋɪl...      0.0         0.0   \n",
       "1  Pierre-Auguste Renoir (French: [pjɛʁ oɡyst ʁən...      1.0         1.0   \n",
       "2  Oscar-Claude Monet (UK: , US: , French: [klod ...      2.0         2.0   \n",
       "3  Fernando Botero Angulo (born 19 April 1932) is...      3.0         3.0   \n",
       "4  Jean-Léon Gérôme (11 May 1824 – 10 January 190...      4.0         4.0   \n",
       "\n",
       "   deathplace   birthdate   deathdate cause_of_death  \n",
       "0       342.0  1853-03-30  1890-07-29  Gunshot wound  \n",
       "1       343.0  1841-02-25  1919-12-03           None  \n",
       "2       344.0  1840-11-14  1926-12-05           None  \n",
       "3         NaN  1932-04-19        None           None  \n",
       "4         2.0  1824-05-11  1904-01-10           None  "
      ]
     },
     "execution_count": 20,
     "metadata": {},
     "output_type": "execute_result"
    }
   ],
   "source": [
    "artists = pd.read_parquet('https://kuleuven-datathon-2023.s3.eu-central-1.amazonaws.com/data/Artist.parquet.gzip')\n",
    "artists.head()"
   ]
  },
  {
   "attachments": {},
   "cell_type": "markdown",
   "metadata": {},
   "source": [
    "### Artist\n",
    "The 'Artist' table is a central component of the dataset and provides information on famous painters and their careers.\n",
    "\n",
    "Next you'll find some basic demographics about the artists in this dataset."
   ]
  },
  {
   "cell_type": "code",
   "execution_count": 21,
   "metadata": {},
   "outputs": [
    {
     "name": "stdout",
     "output_type": "stream",
     "text": [
      "(346, 10)\n",
      "(270, 10)\n"
     ]
    }
   ],
   "source": [
    "# Select all artists that have death date as NaN\n",
    "artists_alive = artists[artists['deathdate'].isna()]\n",
    "print(artists_alive.shape)\n",
    "# Select all artists that have 'deathdate' different from NaN\n",
    "artists_dead = artists[artists['deathdate'].notna()]\n",
    "print(artists_dead.shape)"
   ]
  },
  {
   "cell_type": "code",
   "execution_count": 23,
   "metadata": {},
   "outputs": [
    {
     "data": {
      "text/plain": [
       "<AxesSubplot:>"
      ]
     },
     "execution_count": 23,
     "metadata": {},
     "output_type": "execute_result"
    },
    {
     "data": {
      "image/png": "[encoded data removed]",
      "text/plain": [
       "<Figure size 432x288 with 1 Axes>"
      ]
     },
     "metadata": {
      "needs_background": "light"
     },
     "output_type": "display_data"
    }
   ],
   "source": [
    "# Plot histogram of artists' birth years\n",
    "plt.hist(df[df['cars'] < 50000]['cars'], bins=int(np.sqrt(df.size)), color='red')\n",
    "plt.show()\n",
    "plt.close()"
   ]
  }
 ],
 "metadata": {
  "kernelspec": {
   "display_name": "base",
   "language": "python",
   "name": "python3"
  },
  "language_info": {
   "codemirror_mode": {
    "name": "ipython",
    "version": 3
   },
   "file_extension": ".py",
   "mimetype": "text/x-python",
   "name": "python",
   "nbconvert_exporter": "python",
   "pygments_lexer": "ipython3",
   "version": "3.7.11"
  },
  "orig_nbformat": 4,
  "vscode": {
   "interpreter": {
    "hash": "e38bdacfe1d6e2b7e20a64d2eef782d7715e4314dc541be72f500d3c69b94a4f"
   }
  }
 },
 "nbformat": 4,
 "nbformat_minor": 2
}
